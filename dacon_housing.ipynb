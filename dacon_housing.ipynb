{
  "nbformat": 4,
  "nbformat_minor": 0,
  "metadata": {
    "colab": {
      "name": "dacon_housing.ipynb",
      "provenance": [],
      "authorship_tag": "ABX9TyMSdS1mr2tV5BRpcq2WXqf4",
      "include_colab_link": true
    },
    "kernelspec": {
      "name": "python3",
      "display_name": "Python 3"
    },
    "language_info": {
      "name": "python"
    }
  },
  "cells": [
    {
      "cell_type": "markdown",
      "metadata": {
        "id": "view-in-github",
        "colab_type": "text"
      },
      "source": [
        "<a href=\"https://colab.research.google.com/github/miiiingi/dacon_housing/blob/main/dacon_housing.ipynb\" target=\"_parent\"><img src=\"https://colab.research.google.com/assets/colab-badge.svg\" alt=\"Open In Colab\"/></a>"
      ]
    },
    {
      "cell_type": "code",
      "execution_count": 2,
      "metadata": {
        "colab": {
          "base_uri": "https://localhost:8080/"
        },
        "id": "TB4pPIqIloMV",
        "outputId": "f4c58994-2d0d-442d-c29a-43e55a0918cb"
      },
      "outputs": [
        {
          "output_type": "stream",
          "name": "stdout",
          "text": [
            "Mounted at /gdrive/\n"
          ]
        }
      ],
      "source": [
        "from google.colab import drive\n",
        "drive.mount('/gdrive/')\n",
        "my_folder = '/gdrive/MyDrive/ColabNotebooks/dacon_housing/housing'"
      ]
    },
    {
      "cell_type": "code",
      "source": [
        "import pandas as pd\n",
        "import numpy as np"
      ],
      "metadata": {
        "id": "ANsQK61ll0FP"
      },
      "execution_count": 185,
      "outputs": []
    },
    {
      "cell_type": "code",
      "source": [
        "trainset = pd.read_csv(f'{my_folder}/train.csv')\n",
        "trainset = trainset.drop('id', axis = 1)\n",
        "\n",
        "testset = pd.read_csv(f'{my_folder}/test.csv')\n",
        "testset = testset.drop('id', axis = 1)\n",
        "\n",
        "col_numerical = list(set(trainset.describe().columns))\n",
        "col_categorical = list((set(trainset.columns) - set(col_numerical)))"
      ],
      "metadata": {
        "id": "TCqEKr2smOIt"
      },
      "execution_count": 217,
      "outputs": []
    },
    {
      "cell_type": "markdown",
      "source": [
        "kitchen qual 변수와 타겟변수와의 관계를 보니 kitchen qual에 따라서 타겟값의 변동성이 큰 것을 알 수 있다. 노이즈를 일으킬 수 있을 것 같아서 우선 kitchen qual 변수를 제거해보자."
      ],
      "metadata": {
        "id": "3dg9lBHSC3xf"
      }
    },
    {
      "cell_type": "code",
      "source": [
        "import seaborn as sns\n",
        "sns.scatterplot(data = trainset, x ='Kitchen Qual', y = 'target')"
      ],
      "metadata": {
        "colab": {
          "base_uri": "https://localhost:8080/",
          "height": 297
        },
        "id": "3BHd1zCrCzXl",
        "outputId": "c2b3ce7a-20ea-4f76-b66b-11657b07725d"
      },
      "execution_count": 219,
      "outputs": [
        {
          "output_type": "execute_result",
          "data": {
            "text/plain": [
              "<matplotlib.axes._subplots.AxesSubplot at 0x7f747d018250>"
            ]
          },
          "metadata": {},
          "execution_count": 219
        },
        {
          "output_type": "display_data",
          "data": {
            "image/png": "[encoded data removed]",
            "text/plain": [
              "<Figure size 432x288 with 1 Axes>"
            ]
          },
          "metadata": {
            "needs_background": "light"
          }
        }
      ]
    },
    {
      "cell_type": "code",
      "source": [
        "trainset = trainset.drop('Kitchen Qual', axis = 1)\n",
        "testset = testset.drop('Kitchen Qual', axis = 1)"
      ],
      "metadata": {
        "id": "8cXRcMqmDa0G"
      },
      "execution_count": 220,
      "outputs": []
    },
    {
      "cell_type": "code",
      "source": [
        ""
      ],
      "metadata": {
        "id": "oVc6bWmbNOtv"
      },
      "execution_count": null,
      "outputs": []
    },
    {
      "cell_type": "markdown",
      "source": [
        "결측치 확인하기 > 결측치가 존재하지 않음 \\\\\n",
        "수치 > 평균 0 표준편차 1로 정규화 \\\\\n",
        "범주형 > 원핫인코딩"
      ],
      "metadata": {
        "id": "Ew0_BwYmwgfi"
      }
    },
    {
      "cell_type": "code",
      "source": [
        "for col in col_numerical : \n",
        "  if sum(trainset[col].isnull()) > 0 :\n",
        "    print(f'{col} have a null values')\n",
        "  if col == 'target' : \n",
        "    continue\n",
        "    # mean_target = np.mean(trainset[col])\n",
        "    # std_target = np.std(trainset[col])\n",
        "  num_mean = np.mean(trainset[col])\n",
        "  num_std = np.std(trainset[col])\n",
        "  trainset[col] = (trainset[col] - num_mean) / num_std\n",
        "trainset = pd.get_dummies(trainset)"
      ],
      "metadata": {
        "id": "GJxfvHjbmSEY"
      },
      "execution_count": 221,
      "outputs": []
    },
    {
      "cell_type": "markdown",
      "source": [
        "우선 성능이 어느정도 나오는지 체크해보기 위해 제출해보기"
      ],
      "metadata": {
        "id": "yU6JHBCa0Xd6"
      }
    },
    {
      "cell_type": "code",
      "source": [
        "def NMAE(true, pred):\n",
        "    mae = np.mean(np.abs(true-pred))\n",
        "    score = mae / np.mean(np.abs(true))\n",
        "    return score"
      ],
      "metadata": {
        "id": "tDIRd1UH2kTx"
      },
      "execution_count": 222,
      "outputs": []
    },
    {
      "cell_type": "code",
      "source": [
        "from sklearn.linear_model import LinearRegression\n",
        "from sklearn.ensemble import RandomForestRegressor, VotingRegressor\n",
        "from sklearn.model_selection import cross_val_score\n",
        "from sklearn.metrics import make_scorer\n",
        "import lightgbm as lgbm\n",
        "import xgboost as xgb\n",
        "target_train = trainset['target']\n",
        "data_train = trainset.drop('target', axis = 1)\n",
        "scorer = make_scorer(NMAE)\n",
        "reg = LinearRegression()\n",
        "reg_rf = RandomForestRegressor()\n",
        "reg_lgbm = lgbm.LGBMRegressor()\n",
        "reg_xgb = xgb.XGBRegressor()\n",
        "reg_ensemble = VotingRegressor([('linear', reg), ('rf', reg_rf), ('lgbm', reg_lgbm), ('xgb', reg_xgb)])\n",
        "reg.fit(data_train, target_train)\n",
        "reg_rf.fit(data_train, target_train)\n",
        "reg_lgbm.fit(data_train, target_train)\n",
        "reg_xgb.fit(data_train, target_train)\n",
        "reg_ensemble.fit(data_train, target_train)"
      ],
      "metadata": {
        "colab": {
          "base_uri": "https://localhost:8080/"
        },
        "id": "JtPveufUwNXd",
        "outputId": "fe3fa423-d4ab-437e-d7b5-5548a1b296e5"
      },
      "execution_count": 237,
      "outputs": [
        {
          "output_type": "stream",
          "name": "stdout",
          "text": [
            "[08:23:46] WARNING: /workspace/src/objective/regression_obj.cu:152: reg:linear is now deprecated in favor of reg:squarederror.\n",
            "[08:23:47] WARNING: /workspace/src/objective/regression_obj.cu:152: reg:linear is now deprecated in favor of reg:squarederror.\n"
          ]
        },
        {
          "output_type": "execute_result",
          "data": {
            "text/plain": [
              "VotingRegressor(estimators=[('linear', LinearRegression()),\n",
              "                            ('rf', RandomForestRegressor()),\n",
              "                            ('lgbm', LGBMRegressor()),\n",
              "                            ('xgb', XGBRegressor())])"
            ]
          },
          "metadata": {},
          "execution_count": 237
        }
      ]
    },
    {
      "cell_type": "code",
      "source": [
        "print(np.mean(cross_val_score(reg_rf, data_train, target_train, cv = 2, scoring= scorer)))\n",
        "print(np.mean(cross_val_score(reg_lgbm, data_train, target_train, cv = 2, scoring= scorer)))\n",
        "print(np.mean(cross_val_score(reg, data_train, target_train, cv = 2, scoring= scorer)))\n",
        "print(np.mean(cross_val_score(reg_xgb, data_train, target_train, cv = 2, scoring= scorer)))\n",
        "print(np.mean(cross_val_score(reg_ensemble, data_train, target_train, cv = 2, scoring= scorer)))"
      ],
      "metadata": {
        "colab": {
          "base_uri": "https://localhost:8080/"
        },
        "id": "p0R9eXQGKd3w",
        "outputId": "2c7f8207-f93c-4beb-ac33-9af9ac819472"
      },
      "execution_count": 238,
      "outputs": [
        {
          "output_type": "stream",
          "name": "stdout",
          "text": [
            "0.10125330074265464\n",
            "0.10648056048506294\n",
            "0.11164277251202864\n",
            "[08:23:57] WARNING: /workspace/src/objective/regression_obj.cu:152: reg:linear is now deprecated in favor of reg:squarederror.\n",
            "[08:23:57] WARNING: /workspace/src/objective/regression_obj.cu:152: reg:linear is now deprecated in favor of reg:squarederror.\n",
            "0.10031206337459507\n",
            "[08:23:58] WARNING: /workspace/src/objective/regression_obj.cu:152: reg:linear is now deprecated in favor of reg:squarederror.\n",
            "[08:23:59] WARNING: /workspace/src/objective/regression_obj.cu:152: reg:linear is now deprecated in favor of reg:squarederror.\n",
            "0.09770789431479524\n"
          ]
        }
      ]
    },
    {
      "cell_type": "code",
      "source": [
        "col_numerical.remove('target')"
      ],
      "metadata": {
        "id": "asExDeT_8h_k"
      },
      "execution_count": 239,
      "outputs": []
    },
    {
      "cell_type": "code",
      "source": [
        "for col in col_numerical : \n",
        "  if sum(testset[col].isnull()) > 0 :\n",
        "    print(f'{col} have a null values')\n",
        "  num_mean = np.mean(testset[col])\n",
        "  num_std = np.std(testset[col])\n",
        "  testset[col] = (testset[col] - num_mean) / num_std\n",
        "testset = pd.get_dummies(testset)"
      ],
      "metadata": {
        "id": "eXFx60kIxLHa"
      },
      "execution_count": 240,
      "outputs": []
    },
    {
      "cell_type": "code",
      "source": [
        "prediction = reg_ensemble.predict(testset)\n",
        "sample_submission = pd.read_csv(f'{my_folder}/sample_submission.csv')\n",
        "answer = pd.DataFrame({'id' : sample_submission['id'], 'target' : prediction})\n",
        "answer.to_csv(f\"{my_folder}/submission.csv\", index=False)"
      ],
      "metadata": {
        "id": "aZOyCOGM9rv9"
      },
      "execution_count": 244,
      "outputs": []
    },
    {
      "cell_type": "markdown",
      "source": [
        "0.1116 > 0.1131 \\\\\n",
        "0.09770789431479524 > 0.09762"
      ],
      "metadata": {
        "id": "BGdvSQe1G0Yv"
      }
    },
    {
      "cell_type": "code",
      "source": [
        ""
      ],
      "metadata": {
        "id": "WxsyzLAMDxmY"
      },
      "execution_count": null,
      "outputs": []
    }
  ]
}